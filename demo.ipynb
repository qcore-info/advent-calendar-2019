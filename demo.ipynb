{
 "cells": [
  {
   "cell_type": "markdown",
   "metadata": {},
   "source": [
    "# WebQore demo"
   ]
  },
  {
   "cell_type": "markdown",
   "metadata": {},
   "source": [
    "WebQoreの使用方法のデモ。\n",
    "\n",
    "タスクは心電図の波形データから正常か不整脈かを判断する二値分類。\n",
    "\n",
    "以下の日本メディカルAI学会のオンライン講義資料を参考にした。\n",
    "\n",
    "https://japan-medical-ai.github.io/medical-ai-course-materials/notebooks/08_Sequential_Data_Analysis_with_Deep_Learning.html"
   ]
  },
  {
   "cell_type": "markdown",
   "metadata": {},
   "source": [
    "## ライブラリのインポート"
   ]
  },
  {
   "cell_type": "code",
   "execution_count": 1,
   "metadata": {},
   "outputs": [],
   "source": [
    "import matplotlib.pyplot as plt\n",
    "from imblearn.datasets import make_imbalance\n",
    "from sklearn.metrics import classification_report\n",
    "import numpy as np\n",
    "\n",
    "from qore_sdk.utils import sliding_window\n",
    "from qore_sdk.featurizer import Featurizer\n",
    "from qore_sdk.client import WebQoreClient\n",
    "\n",
    "from dataloader import load_dataset\n",
    "\n",
    "%matplotlib inline"
   ]
  },
  {
   "cell_type": "markdown",
   "metadata": {},
   "source": [
    "## アカウント情報とハイパーパラメータの設定"
   ]
  },
  {
   "cell_type": "code",
   "execution_count": 2,
   "metadata": {},
   "outputs": [],
   "source": [
    "# 取得したアカウント情報\n",
    "username = ''\n",
    "password = ''\n",
    "endpoint = ''\n",
    "\n",
    "width = 144\n",
    "stepsize = 36\n",
    "n_filters = 40"
   ]
  },
  {
   "cell_type": "markdown",
   "metadata": {},
   "source": [
    "## 前処理"
   ]
  },
  {
   "cell_type": "code",
   "execution_count": 3,
   "metadata": {},
   "outputs": [
    {
     "name": "stdout",
     "output_type": "stream",
     "text": [
      "X_train.shape: (47738, 720)\n",
      "X_test.shape: (45349, 720)\n"
     ]
    }
   ],
   "source": [
    "# データセットのダウンロード\n",
    "X_train, X_test, y_train, y_test = load_dataset()\n",
    "print('X_train.shape:', X_train.shape)\n",
    "print('X_test.shape:', X_test.shape)"
   ]
  },
  {
   "cell_type": "code",
   "execution_count": 4,
   "metadata": {},
   "outputs": [
    {
     "name": "stdout",
     "output_type": "stream",
     "text": [
      "X_train.shape: (748, 720)\n",
      "X_test.shape: (453, 720)\n"
     ]
    }
   ],
   "source": [
    "# データ数が多いので減らす。\n",
    "## 学習データ\n",
    "_, counts = np.unique(y_train, return_counts=True)\n",
    "n_samples_per_class = counts.min() // 10\n",
    "X_train, y_train = make_imbalance(X_train, y_train, {0:n_samples_per_class, 1:n_samples_per_class})\n",
    "print('X_train.shape:', X_train.shape)\n",
    "## 検証データ\n",
    "_, counts = np.unique(y_test, return_counts=True)\n",
    "X_test, y_test = make_imbalance(X_test, y_test, {0:counts[0]//100, 1:counts[1]//100})\n",
    "print('X_test.shape:', X_test.shape)"
   ]
  },
  {
   "cell_type": "code",
   "execution_count": 5,
   "metadata": {},
   "outputs": [
    {
     "name": "stdout",
     "output_type": "stream",
     "text": [
      "X_train.shape: (748, 17, 144)\n",
      "X_test.shape: (453, 17, 144)\n"
     ]
    }
   ],
   "source": [
    "# Qoreへの入力は(サンプル数,時系列長,変量数)なので、それに合わせるためにデータを分割する。\n",
    "X_train = sliding_window(X_train, width, stepsize)\n",
    "X_test = sliding_window(X_test, width, stepsize)\n",
    "print('X_train.shape:', X_train.shape)\n",
    "print('X_test.shape:', X_test.shape)"
   ]
  },
  {
   "cell_type": "markdown",
   "metadata": {},
   "source": [
    "## 特徴抽出"
   ]
  },
  {
   "cell_type": "code",
   "execution_count": 6,
   "metadata": {},
   "outputs": [
    {
     "name": "stdout",
     "output_type": "stream",
     "text": [
      "(748, 17, 40) (453, 17, 40)\n",
      "CPU times: user 369 ms, sys: 248 ms, total: 617 ms\n",
      "Wall time: 148 ms\n"
     ]
    }
   ],
   "source": [
    "%%time\n",
    "featurizer = Featurizer(n_filters)\n",
    "X_train = featurizer.featurize(X_train, axis=2)\n",
    "X_test = featurizer.featurize(X_test, axis=2)\n",
    "print(X_train.shape, X_test.shape)"
   ]
  },
  {
   "cell_type": "markdown",
   "metadata": {},
   "source": [
    "## 学習"
   ]
  },
  {
   "cell_type": "code",
   "execution_count": 7,
   "metadata": {},
   "outputs": [
    {
     "name": "stdout",
     "output_type": "stream",
     "text": [
      "Time:. {'res': 'ok', 'train_time': 0.04814064900080363} min.\n",
      "CPU times: user 624 ms, sys: 240 ms, total: 864 ms\n",
      "Wall time: 3.53 s\n"
     ]
    }
   ],
   "source": [
    "%%time\n",
    "client = WebQoreClient(username, password, endpoint=endpoint)\n",
    "time_ = client.classifier_train(X_train, y_train)\n",
    "print('Time:.', time_, 'min.')"
   ]
  },
  {
   "cell_type": "markdown",
   "metadata": {},
   "source": [
    "## 推論"
   ]
  },
  {
   "cell_type": "code",
   "execution_count": 8,
   "metadata": {},
   "outputs": [
    {
     "name": "stdout",
     "output_type": "stream",
     "text": [
      "CPU times: user 282 ms, sys: 27.1 ms, total: 310 ms\n",
      "Wall time: 1.43 s\n"
     ]
    }
   ],
   "source": [
    "%%time\n",
    "res = client.classifier_predict(X_test)"
   ]
  },
  {
   "cell_type": "code",
   "execution_count": 9,
   "metadata": {},
   "outputs": [
    {
     "name": "stdout",
     "output_type": "stream",
     "text": [
      "              precision    recall  f1-score   support\n",
      "\n",
      "           0       0.99      0.94      0.96       421\n",
      "           1       0.53      0.94      0.67        32\n",
      "\n",
      "    accuracy                           0.94       453\n",
      "   macro avg       0.76      0.94      0.82       453\n",
      "weighted avg       0.96      0.94      0.94       453\n",
      "\n"
     ]
    }
   ],
   "source": [
    "report = classification_report(y_test, res['Y'])\n",
    "print(report)"
   ]
  }
 ],
 "metadata": {
  "kernelspec": {
   "display_name": "Python 3",
   "language": "python",
   "name": "python3"
  },
  "language_info": {
   "codemirror_mode": {
    "name": "ipython",
    "version": 3
   },
   "file_extension": ".py",
   "mimetype": "text/x-python",
   "name": "python",
   "nbconvert_exporter": "python",
   "pygments_lexer": "ipython3",
   "version": "3.6.8"
  }
 },
 "nbformat": 4,
 "nbformat_minor": 4
}
