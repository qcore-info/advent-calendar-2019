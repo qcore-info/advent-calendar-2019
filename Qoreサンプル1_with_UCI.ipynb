{
  "nbformat": 4,
  "nbformat_minor": 0,
  "metadata": {
    "colab": {
      "name": "Qoreサンプル1_with_UCI.ipynb",
      "provenance": [],
      "collapsed_sections": [],
      "toc_visible": true,
      "include_colab_link": true
    },
    "kernelspec": {
      "name": "python3",
      "display_name": "Python 3"
    }
  },
  "cells": [
    {
      "cell_type": "markdown",
      "metadata": {
        "id": "view-in-github",
        "colab_type": "text"
      },
      "source": [
        "<a href=\"https://colab.research.google.com/github/qcore-info/advent-calendar-2019/blob/master/Qore%E3%82%B5%E3%83%B3%E3%83%97%E3%83%AB1_with_UCI.ipynb\" target=\"_parent\"><img src=\"https://colab.research.google.com/assets/colab-badge.svg\" alt=\"Open In Colab\"/></a>"
      ]
    },
    {
      "cell_type": "markdown",
      "metadata": {
        "id": "67yUoKayp1Gq",
        "colab_type": "text"
      },
      "source": [
        "## QoreSDKの導入\n",
        "\n",
        "1. [Advent Calenderの公式Github](https://github.com/qcore-info/advent-calendar-2019)からバイナリパッケージをダウンロードしてください。  \n",
        "\n",
        "\n",
        "2. サイドバーのファイルメニューへバイナリをドラッグしてください\n",
        " ![](https://drive.google.com/uc?export=view&id=1ycgCTyCnDd6Gl5JDkhX6hwcui3BzMcKD)  \n",
        "\n",
        "3. pipでqore_sdkを導入します。\n",
        "https://drive.google.com/file/d/1VbZ6nPqXLggZgAtck31qWyepXNt7VErr/view?usp=sharing"
      ]
    },
    {
      "cell_type": "code",
      "metadata": {
        "id": "GQrGSIc3qqP2",
        "colab_type": "code",
        "outputId": "cfc93708-98b2-45c9-fad9-5b7b120cd70e",
        "colab": {
          "base_uri": "https://localhost:8080/",
          "height": 190
        }
      },
      "source": [
        "!pip install ./qore_sdk-0.1.0-cp36-cp36m-linux_x86_64.whl"
      ],
      "execution_count": 0,
      "outputs": [
        {
          "output_type": "stream",
          "text": [
            "Processing ./qore_sdk-0.1.0-cp36-cp36m-linux_x86_64.whl\n",
            "Requirement already satisfied: httplib2 in /usr/local/lib/python3.6/dist-packages (from qore-sdk==0.1.0) (0.11.3)\n",
            "Requirement already satisfied: scikit-learn in /usr/local/lib/python3.6/dist-packages (from qore-sdk==0.1.0) (0.21.3)\n",
            "Requirement already satisfied: scipy in /usr/local/lib/python3.6/dist-packages (from qore-sdk==0.1.0) (1.3.2)\n",
            "Requirement already satisfied: cython in /usr/local/lib/python3.6/dist-packages (from qore-sdk==0.1.0) (0.29.14)\n",
            "Requirement already satisfied: numpy in /usr/local/lib/python3.6/dist-packages (from qore-sdk==0.1.0) (1.17.4)\n",
            "Requirement already satisfied: joblib>=0.11 in /usr/local/lib/python3.6/dist-packages (from scikit-learn->qore-sdk==0.1.0) (0.14.0)\n",
            "Installing collected packages: qore-sdk\n",
            "Successfully installed qore-sdk-0.1.0\n"
          ],
          "name": "stdout"
        }
      ]
    },
    {
      "cell_type": "markdown",
      "metadata": {
        "id": "wWvi-NkazeQC",
        "colab_type": "text"
      },
      "source": [
        "# 必要なライブラリを読み込む"
      ]
    },
    {
      "cell_type": "code",
      "metadata": {
        "id": "6sp_8vI9vKKZ",
        "colab_type": "code",
        "colab": {}
      },
      "source": [
        "from qore_sdk.client import WebQoreClient\n",
        "from sklearn import model_selection\n",
        "from sklearn.metrics import accuracy_score, f1_score\n",
        "from sklearn.neural_network import MLPClassifier\n",
        "from sklearn.linear_model import LogisticRegression\n",
        "import time\n",
        "import numpy as np\n",
        "import json\n",
        "import os"
      ],
      "execution_count": 0,
      "outputs": []
    },
    {
      "cell_type": "markdown",
      "metadata": {
        "id": "Y4i401tUtUBH",
        "colab_type": "text"
      },
      "source": [
        "# データの準備\n",
        "\n",
        "今回はUCIが提供しているJapanese Vowelというデータセットを使います。  \n",
        "これは、9人の日本人の母音から、個人を特定するタスクです。<br>  \n",
        "今回はこれをJson形式に変換したファイルを使用します。\n",
        "\n",
        "*UCI Machine Learning Repository: Japanese Vowels Dataset. https://archive.ics.uci.edu/ml/datasets/Japanese+Vowels*"
      ]
    },
    {
      "cell_type": "code",
      "metadata": {
        "id": "Yi1duNmYtGp4",
        "colab_type": "code",
        "outputId": "9f52e07f-d66a-4537-e14d-0884468f7604",
        "colab": {
          "base_uri": "https://localhost:8080/",
          "height": 578
        }
      },
      "source": [
        "!mkdir data\n",
        "%cd /content/data/\n",
        "!curl gdrive.sh | bash -s  1YAtEGe-_xTMDhWeSBvXHLpQTKtzzRBKU\n",
        "!curl gdrive.sh | bash -s  196nFe8vB-TFWjPg1NGX3ptAZfNALnVot\n",
        "!curl gdrive.sh | bash -s  1g0UFllMm7m7DXVoyHOLIigwVFvzSIX2e\n",
        "!curl gdrive.sh | bash -s  1EqyotynOrxEJwwCxO-sZ75etHZDzFyHO"
      ],
      "execution_count": 0,
      "outputs": [
        {
          "output_type": "stream",
          "text": [
            "/content/data\n",
            "  % Total    % Received % Xferd  Average Speed   Time    Time     Time  Current\n",
            "                                 Dload  Upload   Total   Spent    Left  Speed\n",
            "100  2874  100  2874    0     0   1623      0  0:00:01  0:00:01 --:--:--  1623\n",
            "  % Total    % Received % Xferd  Average Speed   Time    Time     Time  Current\n",
            "                                 Dload  Upload   Total   Spent    Left  Speed\n",
            "100   388    0   388    0     0    441      0 --:--:-- --:--:-- --:--:--   441\n",
            "100 1885k  100 1885k    0     0  1285k      0  0:00:01  0:00:01 --:--:-- 13.7M\n",
            "curl: Saved to filename 'jpvow_train_x.json'\n",
            "  % Total    % Received % Xferd  Average Speed   Time    Time     Time  Current\n",
            "                                 Dload  Upload   Total   Spent    Left  Speed\n",
            "100  2874  100  2874    0     0  95800      0 --:--:-- --:--:-- --:--:-- 95800\n",
            "  % Total    % Received % Xferd  Average Speed   Time    Time     Time  Current\n",
            "                                 Dload  Upload   Total   Spent    Left  Speed\n",
            "100   388    0   388    0     0    390      0 --:--:-- --:--:-- --:--:--   390\n",
            "100 2551k    0 2551k    0     0  1952k      0 --:--:--  0:00:01 --:--:-- 23.0M\n",
            "curl: Saved to filename 'jpvow_test_x.json'\n",
            "  % Total    % Received % Xferd  Average Speed   Time    Time     Time  Current\n",
            "                                 Dload  Upload   Total   Spent    Left  Speed\n",
            "100  2874  100  2874    0     0  89812      0 --:--:-- --:--:-- --:--:-- 89812\n",
            "  % Total    % Received % Xferd  Average Speed   Time    Time     Time  Current\n",
            "                                 Dload  Upload   Total   Spent    Left  Speed\n",
            "100   388    0   388    0     0    783      0 --:--:-- --:--:-- --:--:--   783\n",
            "100  4052  100  4052    0     0   5039      0 --:--:-- --:--:-- --:--:--  5039\n",
            "curl: Saved to filename 'jpvow_train_y.json'\n",
            "  % Total    % Received % Xferd  Average Speed   Time    Time     Time  Current\n",
            "                                 Dload  Upload   Total   Spent    Left  Speed\n",
            "100  2874  100  2874    0     0  92709      0 --:--:-- --:--:-- --:--:-- 92709\n",
            "  % Total    % Received % Xferd  Average Speed   Time    Time     Time  Current\n",
            "                                 Dload  Upload   Total   Spent    Left  Speed\n",
            "100   388    0   388    0     0    690      0 --:--:-- --:--:-- --:--:--   690\n",
            "100  5552  100  5552    0     0   6570      0 --:--:-- --:--:-- --:--:-- 80463\n",
            "curl: Saved to filename 'jpvow_test_y.json'\n"
          ],
          "name": "stdout"
        }
      ]
    },
    {
      "cell_type": "code",
      "metadata": {
        "id": "F6GQoYD-zsG6",
        "colab_type": "code",
        "outputId": "79e7c379-34de-4c19-f8d2-85fccd7e8094",
        "colab": {
          "base_uri": "https://localhost:8080/",
          "height": 34
        }
      },
      "source": [
        "%cd /content/data/\n",
        "with open(\"jpvow_train_x.json\", \"r\") as f:\n",
        "    X_train = json.load(f)\n",
        "with open(\"jpvow_train_y.json\", \"r\") as f:\n",
        "    y_train = json.load(f)\n",
        "with open(\"jpvow_test_x.json\", \"r\") as f:\n",
        "    X_test = json.load(f)\n",
        "with open(\"jpvow_test_y.json\", \"r\") as f:\n",
        "    y_test = json.load(f)\n",
        "\n",
        "X_train = np.array(X_train)\n",
        "y_train = np.array(y_train)\n",
        "X_test = np.array(X_test)\n",
        "y_test = np.array(y_test)\n"
      ],
      "execution_count": 0,
      "outputs": [
        {
          "output_type": "stream",
          "text": [
            "/content/data\n"
          ],
          "name": "stdout"
        }
      ]
    },
    {
      "cell_type": "markdown",
      "metadata": {
        "id": "hnzu_wxw25cZ",
        "colab_type": "text"
      },
      "source": [
        "このままのデータで学習しても構わないが、  \n",
        "ラベルが順番に並んでいるなどの偏りが見られるため、データ全体を結合しシャッフルする。"
      ]
    },
    {
      "cell_type": "code",
      "metadata": {
        "id": "SAOvyKgS225B",
        "colab_type": "code",
        "outputId": "cb4d1efd-67c3-4a84-d81c-35170627519f",
        "colab": {
          "base_uri": "https://localhost:8080/",
          "height": 85
        }
      },
      "source": [
        "data = np.concatenate((X_train, X_test), axis=0)\n",
        "target = np.concatenate((y_train, y_test), axis=0)\n",
        "X_train, X_test, y_train, y_test = model_selection.train_test_split(\n",
        "    data, target, test_size=0.2, random_state=1\n",
        ")\n",
        "\n",
        "print(X_train.shape)\n",
        "print(y_train.shape)\n",
        "print(X_test.shape)\n",
        "print(y_test.shape)"
      ],
      "execution_count": 0,
      "outputs": [
        {
          "output_type": "stream",
          "text": [
            "(512, 29, 12)\n",
            "(512, 1)\n",
            "(128, 29, 12)\n",
            "(128, 1)\n"
          ],
          "name": "stdout"
        }
      ]
    },
    {
      "cell_type": "markdown",
      "metadata": {
        "id": "-_EojGxE1scq",
        "colab_type": "text"
      },
      "source": [
        "# Qoreクライアントを準備する\n",
        "事前に発行されたユーザーネーム、パスワード、Endpointが必要  \n",
        "詳しくは[Advent Calenderの公式Github](https://github.com/qcore-info/advent-calendar-2019)を参照"
      ]
    },
    {
      "cell_type": "code",
      "metadata": {
        "id": "DHXYqKqc05Zx",
        "colab_type": "code",
        "colab": {}
      },
      "source": [
        "client = WebQoreClient(username=\"\", \n",
        "                       password=\"\", \n",
        "                       endpoint=\"\")"
      ],
      "execution_count": 0,
      "outputs": []
    },
    {
      "cell_type": "markdown",
      "metadata": {
        "id": "gEJUGAqm8c0M",
        "colab_type": "text"
      },
      "source": [
        "学習を行う"
      ]
    },
    {
      "cell_type": "code",
      "metadata": {
        "id": "jWbZJtH32ADt",
        "colab_type": "code",
        "outputId": "2250c28f-46a9-4eb7-aedd-8891af0616a0",
        "colab": {
          "base_uri": "https://localhost:8080/",
          "height": 34
        }
      },
      "source": [
        "start = time.time()\n",
        "res = client.classifier_train(X=X_train, Y=y_train)\n",
        "print(res)"
      ],
      "execution_count": 0,
      "outputs": [
        {
          "output_type": "stream",
          "text": [
            "{'res': 'ok', 'train_time': 1.2235112190246582}\n"
          ],
          "name": "stdout"
        }
      ]
    },
    {
      "cell_type": "markdown",
      "metadata": {
        "id": "EkJFSL7w8fTj",
        "colab_type": "text"
      },
      "source": [
        "`\n",
        "classifier_test\n",
        "`を用いると、精度が簡単に求められて便利\n",
        "\n",
        "\n"
      ]
    },
    {
      "cell_type": "code",
      "metadata": {
        "id": "DwOZ8ZGd2M--",
        "colab_type": "code",
        "outputId": "40520ca9-7758-4a2e-a1c5-070d78deefdd",
        "colab": {
          "base_uri": "https://localhost:8080/",
          "height": 34
        }
      },
      "source": [
        "res = client.classifier_test(X=X_test, Y=y_test)\n",
        "print(res)"
      ],
      "execution_count": 0,
      "outputs": [
        {
          "output_type": "stream",
          "text": [
            "{'accuracy': 0.9921875, 'f1': 0.9922253787878788, 'res': 'ok'}\n"
          ],
          "name": "stdout"
        }
      ]
    },
    {
      "cell_type": "markdown",
      "metadata": {
        "id": "uefLZ3wd8rZd",
        "colab_type": "text"
      },
      "source": [
        "最後には推論もしてみる"
      ]
    },
    {
      "cell_type": "code",
      "metadata": {
        "id": "PH5l5IPF2S8w",
        "colab_type": "code",
        "outputId": "e860a970-2928-4094-be20-67ee410ce0ea",
        "colab": {
          "base_uri": "https://localhost:8080/",
          "height": 105
        }
      },
      "source": [
        "res = client.classifier_predict(X=X_test)\n",
        "print(\"acc=\", accuracy_score(y_test.tolist(), res[\"Y\"]))\n",
        "print(\"f1=\", f1_score(y_test.tolist(), res[\"Y\"], average=\"weighted\"))\n",
        "elapsed_time = time.time() - start\n",
        "print(\"elapsed_time:{0}\".format(elapsed_time) + \"[sec]\")\n",
        "print(res['Y'])\n"
      ],
      "execution_count": 0,
      "outputs": [
        {
          "output_type": "stream",
          "text": [
            "acc= 0.9921875\n",
            "f1= 0.9921496212121212\n",
            "elapsed_time:3.022348165512085[sec]\n",
            "[5, 9, 7, 1, 3, 3, 4, 9, 9, 3, 8, 2, 1, 6, 9, 7, 3, 4, 6, 9, 1, 4, 8, 1, 8, 3, 7, 7, 8, 4, 8, 4, 7, 2, 6, 7, 3, 9, 4, 2, 8, 3, 7, 6, 5, 4, 2, 1, 8, 7, 2, 7, 3, 6, 5, 2, 5, 7, 1, 4, 2, 4, 8, 2, 7, 1, 8, 9, 3, 7, 4, 6, 8, 8, 3, 7, 3, 1, 6, 2, 3, 8, 7, 9, 8, 3, 7, 2, 4, 5, 3, 2, 6, 3, 5, 8, 3, 8, 6, 9, 8, 3, 6, 1, 9, 2, 3, 7, 6, 3, 4, 9, 5, 8, 8, 3, 3, 3, 1, 8, 5, 3, 9, 4, 7, 4, 1, 8]\n"
          ],
          "name": "stdout"
        }
      ]
    },
    {
      "cell_type": "markdown",
      "metadata": {
        "id": "087J3hmc6lqv",
        "colab_type": "text"
      },
      "source": [
        "ちなみに、サーバーはAWSのMediumで動いている  \n",
        "メモリサイズは1GB"
      ]
    },
    {
      "cell_type": "markdown",
      "metadata": {
        "id": "szVXRg3k3thc",
        "colab_type": "text"
      },
      "source": [
        "# 参考\n",
        "単純な線形回帰、簡単な深層学習と比較する"
      ]
    },
    {
      "cell_type": "code",
      "metadata": {
        "id": "rWuixZTz2toL",
        "colab_type": "code",
        "outputId": "1270efce-72cb-45c9-b6a4-0af8be0209ae",
        "colab": {
          "base_uri": "https://localhost:8080/",
          "height": 241
        }
      },
      "source": [
        "X_train = X_train.reshape(len(X_train), -1).astype(np.float64)\n",
        "X_test = X_test.reshape(len(X_test), -1).astype(np.float64)\n",
        "y_train = np.ravel(y_train)\n",
        "y_test = np.ravel(y_test)\n",
        "\n",
        "print(\"===LogisticRegression(Using Sklearn)===\")\n",
        "start = time.time()\n",
        "lr_cls = LogisticRegression(C=9.0)\n",
        "lr_cls.fit(X_train, y_train)\n",
        "elapsed_time = time.time() - start\n",
        "print(\"elapsed_time:{0}\".format(elapsed_time) + \"[sec]\")\n",
        "res = lr_cls.predict(X=X_test)\n",
        "print(\"acc=\", accuracy_score(y_test.tolist(), res))\n",
        "print(\"f1=\", f1_score(y_test.tolist(), res, average=\"weighted\"))\n",
        "\n",
        "print(\"===MLP(Using Sklearn)===\")\n",
        "start = time.time()\n",
        "mlp_cls = MLPClassifier(hidden_layer_sizes=(100, 100, 100, 10))\n",
        "mlp_cls.fit(X_train, y_train)\n",
        "elapsed_time = time.time() - start\n",
        "print(\"elapsed_time:{0}\".format(elapsed_time) + \"[sec]\")\n",
        "res = mlp_cls.predict(X=X_test)\n",
        "print(\"acc=\", accuracy_score(y_test.tolist(), res))\n",
        "print(\"f1=\", f1_score(y_test.tolist(), res, average=\"weighted\"))"
      ],
      "execution_count": 0,
      "outputs": [
        {
          "output_type": "stream",
          "text": [
            "===LogisticRegression(Using Sklearn)===\n"
          ],
          "name": "stdout"
        },
        {
          "output_type": "stream",
          "text": [
            "/usr/local/lib/python3.6/dist-packages/sklearn/linear_model/logistic.py:432: FutureWarning: Default solver will be changed to 'lbfgs' in 0.22. Specify a solver to silence this warning.\n",
            "  FutureWarning)\n",
            "/usr/local/lib/python3.6/dist-packages/sklearn/linear_model/logistic.py:469: FutureWarning: Default multi_class will be changed to 'auto' in 0.22. Specify the multi_class option to silence this warning.\n",
            "  \"this warning.\", FutureWarning)\n"
          ],
          "name": "stderr"
        },
        {
          "output_type": "stream",
          "text": [
            "elapsed_time:0.21763110160827637[sec]\n",
            "acc= 0.9765625\n",
            "f1= 0.9761245153216563\n",
            "===MLP(Using Sklearn)===\n",
            "elapsed_time:1.273435354232788[sec]\n",
            "acc= 0.9609375\n",
            "f1= 0.9602474709896586\n"
          ],
          "name": "stdout"
        }
      ]
    }
  ]
}